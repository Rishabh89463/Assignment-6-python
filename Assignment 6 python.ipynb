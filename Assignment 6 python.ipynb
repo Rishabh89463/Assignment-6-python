{
 "cells": [
  {
   "cell_type": "code",
   "execution_count": 1,
   "id": "ced0fdfe-2b7d-46d8-94c0-79e12aa40d1f",
   "metadata": {},
   "outputs": [],
   "source": [
    "# 1. What are escape characters, and how do you use them?"
   ]
  },
  {
   "cell_type": "code",
   "execution_count": 1,
   "id": "cfeec9f4-1b31-4006-8365-e39ce7e9f30b",
   "metadata": {},
   "outputs": [
    {
     "name": "stdout",
     "output_type": "stream",
     "text": [
      "Hello\n",
      "World\n",
      "Hello\tWorld\n"
     ]
    }
   ],
   "source": [
    "# Escape characters in Python are special sequences of characters that represent certain whitespace or non-printable characters within a string. They are introduced by a backslash (\\) followed by one or more characters. Escape characters allow you to include special characters in strings that would otherwise be difficult or impossible to insert.\n",
    "\n",
    "# Newline (\\n): Inserts a newline in the string.\n",
    "\n",
    "print(\"Hello\\nWorld\")\n",
    "# Output:\n",
    "# Hello\n",
    "# World\n",
    "\n",
    "# Tab (\\t): Inserts a tab space in the string.\n",
    "\n",
    "print(\"Hello\\tWorld\")\n",
    "# Output:\n",
    "# Hello   World\n"
   ]
  },
  {
   "cell_type": "code",
   "execution_count": 2,
   "id": "9d82a25d-8af3-426a-8220-58cf08c82a8b",
   "metadata": {},
   "outputs": [],
   "source": [
    "# 2. What do the escape characters n and t stand for?"
   ]
  },
  {
   "cell_type": "code",
   "execution_count": 3,
   "id": "e4116a1b-8bfe-41f1-b495-4788934ccc21",
   "metadata": {},
   "outputs": [],
   "source": [
    "# The escape characters \\n and \\t in Python stand for:\n",
    "\n",
    "# \\n: Newline\n",
    "\n",
    "# \\t: Tab"
   ]
  },
  {
   "cell_type": "code",
   "execution_count": 4,
   "id": "955956b4-5426-435f-9c57-2ddc81de2ae8",
   "metadata": {},
   "outputs": [],
   "source": [
    "# 3. What is the way to include backslash characters in a string?"
   ]
  },
  {
   "cell_type": "code",
   "execution_count": 5,
   "id": "25f0e840-5774-4e09-9764-7697c2e4a65e",
   "metadata": {},
   "outputs": [
    {
     "name": "stdout",
     "output_type": "stream",
     "text": [
      "This is a backslash: \\\n"
     ]
    }
   ],
   "source": [
    "# To include a backslash character (\\) in a string in Python, you need to use a double backslash (\\\\). This tells Python to treat the backslash as a literal character rather than an escape character.\n",
    "\n",
    "# Here's an example:\n",
    "\n",
    "print(\"This is a backslash: \\\\\")\n",
    "# Output:\n",
    "# This is a backslash: \\\n"
   ]
  },
  {
   "cell_type": "code",
   "execution_count": 6,
   "id": "bab76a0b-983b-4981-a20c-a1ba6a72ae65",
   "metadata": {},
   "outputs": [],
   "source": [
    "# 4. The string &quot;Howl&#39;s Moving Castle&quot; is a correct value. Why isn&#39;t the single quote character in the\n",
    "# word Howl&#39;s not escaped a problem?"
   ]
  },
  {
   "cell_type": "code",
   "execution_count": 7,
   "id": "ed37eca7-05d9-4ed5-907b-ae08f17aa9e0",
   "metadata": {},
   "outputs": [
    {
     "name": "stdout",
     "output_type": "stream",
     "text": [
      "Howl's Moving Castle\n"
     ]
    }
   ],
   "source": [
    "# The string \"Howl's Moving Castle\" is a correct value because the string is enclosed in double quotes (\"). In Python, you can use either single quotes (') or double quotes (\") to delimit a string. If you use double quotes to delimit the string, any single quote inside the string does not need to be escaped.\n",
    "\n",
    "# Here is an example:\n",
    "\n",
    "string = \"Howl's Moving Castle\"\n",
    "print(string)\n",
    "# Output:\n",
    "# Howl's Moving Castle\n"
   ]
  },
  {
   "cell_type": "code",
   "execution_count": 8,
   "id": "ee0031d7-7c36-4459-91d5-a5fe216f1cd1",
   "metadata": {},
   "outputs": [],
   "source": [
    "# 5. How do you write a string of newlines if you don&#39;t want to use the n character?"
   ]
  },
  {
   "cell_type": "code",
   "execution_count": 9,
   "id": "c2b2639f-2559-4b32-8c09-72ff242a18df",
   "metadata": {},
   "outputs": [
    {
     "name": "stdout",
     "output_type": "stream",
     "text": [
      "This is line one.\n",
      "This is line two.\n",
      "This is line three.\n"
     ]
    }
   ],
   "source": [
    "# If you want to write a string with newlines without using the \\n escape character, you can use triple quotes (''' or \"\"\"). Triple-quoted strings in Python can span multiple lines, making it easy to include newlines directly in the string.\n",
    "\n",
    "# Here's an example using triple double quotes:\n",
    "\n",
    "multi_line_string = \"\"\"This is line one.\n",
    "This is line two.\n",
    "This is line three.\"\"\"\n",
    "print(multi_line_string)\n",
    "\n"
   ]
  },
  {
   "cell_type": "code",
   "execution_count": 10,
   "id": "88f9ba96-4f7d-47eb-94e8-31600f05de63",
   "metadata": {},
   "outputs": [],
   "source": [
    "# 6. What are the values of the given expressions?\n",
    "# &#39;Hello, world!&#39;[1]\n",
    "# &#39;Hello, world!&#39;[0:5]\n",
    "# &#39;Hello, world!&#39;[:5]\n",
    "# &#39;Hello, world!&#39;[3:]"
   ]
  },
  {
   "cell_type": "code",
   "execution_count": 11,
   "id": "0d2987e2-f819-47b1-82de-5c05daf9cb76",
   "metadata": {},
   "outputs": [],
   "source": [
    "# Let's break down each of the given expressions and evaluate their values:\n",
    "\n",
    "# 'Hello, world!'[1]\n",
    "\n",
    "# This expression retrieves the character at index 1 of the string 'Hello, world!'.\n",
    "# Value: 'e'\n",
    "# 'Hello, world!'[0:5]\n",
    "\n",
    "# This expression retrieves the substring from index 0 to index 4 (the end index is not included) of the string 'Hello, world!'.\n",
    "# Value: 'Hello'\n",
    "# 'Hello, world!'[:5]\n",
    "\n",
    "# This expression retrieves the substring from the beginning of the string to index 4 (the end index is not included) of the string 'Hello, world!'.\n",
    "# Value: 'Hello'\n",
    "# 'Hello, world!'[3:]\n",
    "\n",
    "# This expression retrieves the substring from index 3 to the end of the string 'Hello, world!'.\n",
    "# Value: 'lo, world!'"
   ]
  },
  {
   "cell_type": "code",
   "execution_count": 12,
   "id": "38fc3676-408b-4750-98b6-47dc2dd93ba5",
   "metadata": {},
   "outputs": [],
   "source": [
    "# 7. What are the values of the following expressions?\n",
    "# &#39;Hello&#39;.upper()\n",
    "# &#39;Hello&#39;.upper().isupper()\n",
    "# &#39;Hello&#39;.upper().lower()"
   ]
  },
  {
   "cell_type": "code",
   "execution_count": 13,
   "id": "a62da042-91b5-48e7-847f-e1031b206dcc",
   "metadata": {},
   "outputs": [],
   "source": [
    "# Let's evaluate each of the given expressions step by step:\n",
    "\n",
    "# 'Hello'.upper()\n",
    "\n",
    "# This expression converts all characters in the string 'Hello' to uppercase.\n",
    "# Value: 'HELLO'\n",
    "# 'Hello'.upper().isupper()\n",
    "\n",
    "# This expression first converts the string 'Hello' to uppercase, resulting in 'HELLO'.\n",
    "# Then, it checks if all characters in the resulting string 'HELLO' are uppercase using the isupper() method.\n",
    "# Value: True\n",
    "# 'Hello'.upper().lower()\n",
    "\n",
    "# This expression first converts the string 'Hello' to uppercase, resulting in 'HELLO'.\n",
    "# Then, it converts the resulting string 'HELLO' to lowercase using the lower() method.\n",
    "# Value: 'hello'"
   ]
  },
  {
   "cell_type": "code",
   "execution_count": 14,
   "id": "65b376f0-601e-40dd-84c5-6b2af90badd0",
   "metadata": {},
   "outputs": [],
   "source": [
    "# 8. What are the values of the following expressions?\n",
    "# &#39;Remember, remember, the fifth of July.&#39;.split()\n",
    "# &#39;-&#39;.join(&#39;There can only one.&#39;.split())\n"
   ]
  },
  {
   "cell_type": "code",
   "execution_count": 15,
   "id": "67d3c54f-9082-4f1e-bfe3-1343028165b0",
   "metadata": {},
   "outputs": [],
   "source": [
    "# Let's evaluate each of the given expressions step by step:\n",
    "\n",
    "# 'Remember, remember, the fifth of July.'.split()\n",
    "\n",
    "# The split() method splits the string into a list of words using whitespace as the delimiter.\n",
    "# Value: ['Remember,', 'remember,', 'the', 'fifth', 'of', 'July.']\n",
    "# '-'.join('There can only one.'.split())\n",
    "\n",
    "# First, the split() method splits the string 'There can only one.' into a list of words using whitespace as the delimiter.\n",
    "# This results in the list ['There', 'can', 'only', 'one.'].\n",
    "# Then, the join() method concatenates the elements of this list into a single string, with each element separated by the string '-'.\n",
    "# Value: 'There-can-only-one.'"
   ]
  },
  {
   "cell_type": "code",
   "execution_count": 16,
   "id": "dd92995b-8b73-474b-b40a-b8d91f1f974b",
   "metadata": {},
   "outputs": [],
   "source": [
    "# 9. What are the methods for right-justifying, left-justifying, and centering a string?"
   ]
  },
  {
   "cell_type": "code",
   "execution_count": 17,
   "id": "9847c0e4-682a-47d8-a09c-91bdada58e18",
   "metadata": {},
   "outputs": [
    {
     "name": "stdout",
     "output_type": "stream",
     "text": [
      "     Hello\n",
      "Hello     \n",
      "  Hello   \n"
     ]
    }
   ],
   "source": [
    "# In Python, you can use the following string methods to right-justify, left-justify, and center a string:\n",
    "\n",
    "# Right-justifying a string: Use the rjust() method.\n",
    "\n",
    "# This method returns a right-justified string of a given width by padding it with spaces (or another specified character) on the left.\n",
    "# Syntax: string.rjust(width, fillchar)\n",
    "# Example\n",
    "\n",
    "text = \"Hello\"\n",
    "right_justified = text.rjust(10)\n",
    "print(right_justified)  # Output: \"     Hello\"\n",
    "\n",
    "\n",
    "# Left-justifying a string: Use the ljust() method.\n",
    "\n",
    "# This method returns a left-justified string of a given width by padding it with spaces (or another specified character) on the right.\n",
    "# Syntax: string.ljust(width, fillchar)\n",
    "\n",
    "\n",
    "text = \"Hello\"\n",
    "left_justified = text.ljust(10)\n",
    "print(left_justified)  # Output: \"Hello     \"\n",
    "\n",
    "\n",
    "# Centering a string: Use the center() method.\n",
    "\n",
    "# This method returns a centered string of a given width by padding it with spaces (or another specified character) on both sides.\n",
    "# Syntax: string.center(width, fillchar)\n",
    "\n",
    "\n",
    "text = \"Hello\"\n",
    "centered = text.center(10)\n",
    "print(centered)  # Output: \"  Hello   \"\n"
   ]
  },
  {
   "cell_type": "code",
   "execution_count": 18,
   "id": "0fe76e6d-994a-4e6f-af9f-367155725819",
   "metadata": {},
   "outputs": [],
   "source": [
    "# 10. What is the best way to remove whitespace characters from the start or end?\n"
   ]
  },
  {
   "cell_type": "code",
   "execution_count": 19,
   "id": "1ad072cb-e485-4e93-a152-093ee2b84f91",
   "metadata": {},
   "outputs": [
    {
     "name": "stdout",
     "output_type": "stream",
     "text": [
      "Hello, world!\n"
     ]
    }
   ],
   "source": [
    "# The best way to remove whitespace characters from the start or end of a string in Python is by using the strip(), lstrip(), and rstrip() methods:\n",
    "\n",
    "# Removing whitespace from both the start and the end: Use the strip() method.\n",
    "\n",
    "# This method removes all leading (start) and trailing (end) whitespace characters from the string.\n",
    "# Example\n",
    "\n",
    "text = \"   Hello, world!   \"\n",
    "stripped_text = text.strip()\n",
    "print(stripped_text)  # Output: \"Hello, world!\"\n"
   ]
  },
  {
   "cell_type": "code",
   "execution_count": null,
   "id": "ea80f648-33eb-44d2-8887-25db8cb442a1",
   "metadata": {},
   "outputs": [],
   "source": []
  }
 ],
 "metadata": {
  "kernelspec": {
   "display_name": "Python 3 (ipykernel)",
   "language": "python",
   "name": "python3"
  },
  "language_info": {
   "codemirror_mode": {
    "name": "ipython",
    "version": 3
   },
   "file_extension": ".py",
   "mimetype": "text/x-python",
   "name": "python",
   "nbconvert_exporter": "python",
   "pygments_lexer": "ipython3",
   "version": "3.10.8"
  }
 },
 "nbformat": 4,
 "nbformat_minor": 5
}
